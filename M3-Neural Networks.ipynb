{
 "cells": [
  {
   "cell_type": "markdown",
   "id": "2a0884e9-a34b-42d0-875a-d3ce25b83d99",
   "metadata": {},
   "source": [
    "# Module 3 - Neural Networks"
   ]
  },
  {
   "cell_type": "code",
   "execution_count": null,
   "id": "86d5eb7a-0363-4583-bf90-54f1974e6395",
   "metadata": {},
   "outputs": [],
   "source": []
  }
 ],
 "metadata": {
  "kernelspec": {
   "display_name": "Python 3 (ipykernel)",
   "language": "python",
   "name": "python3"
  },
  "language_info": {
   "codemirror_mode": {
    "name": "ipython",
    "version": 3
   },
   "file_extension": ".py",
   "mimetype": "text/x-python",
   "name": "python",
   "nbconvert_exporter": "python",
   "pygments_lexer": "ipython3",
   "version": "3.11.6"
  }
 },
 "nbformat": 4,
 "nbformat_minor": 5
}
